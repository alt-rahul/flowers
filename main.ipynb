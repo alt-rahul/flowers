{
 "cells": [
  {
   "cell_type": "code",
   "execution_count": 1,
   "id": "feb78eb6",
   "metadata": {},
   "outputs": [],
   "source": [
    "import torch\n",
    "import torch.nn as nn\n",
    "from sklearn.model_selection import train_test_split\n",
    "import numpy as np\n",
    "import pandas as pd\n",
    "from dotenv import load_dotenv, find_dotenv"
   ]
  },
  {
   "cell_type": "code",
   "execution_count": 2,
   "id": "ff154459",
   "metadata": {},
   "outputs": [],
   "source": [
    "from PIL import Image\n",
    "import os, os.path\n",
    "import matplotlib.pyplot as plt\n",
    "\n",
    "load_dotenv(find_dotenv())\n",
    "\n",
    "folder = os.environ.get(\"PATH_NAME\")\n",
    "img_dir = folder "
   ]
  },
  {
   "cell_type": "code",
   "execution_count": 3,
   "id": "a1e1408c",
   "metadata": {},
   "outputs": [],
   "source": [
    "def modify(string):\n",
    "    string = string.lower()\n",
    "    string = string.replace(\" \", \"_\")\n",
    "    return string\n",
    "labels = pd.read_csv(\"class_names.csv\")\n",
    "labels = labels.iloc[:, 0].apply(modify).tolist()\n",
    "labels[8] = \"chive_blossom\""
   ]
  },
  {
   "cell_type": "code",
   "execution_count": 4,
   "id": "ad18eff8",
   "metadata": {},
   "outputs": [],
   "source": [
    "data = []\n",
    "\n",
    "for label in labels:\n",
    "    file_path = folder + f'/{label}'\n",
    "    for image in os.listdir(file_path):\n",
    "        im = Image.open(os.path.join(file_path, image))\n",
    "        im_a = np.asarray(im)\n",
    "        im_t = torch.from_numpy(im_a.copy())\n",
    "        data.append([im_t, label])"
   ]
  },
  {
   "cell_type": "code",
   "execution_count": 5,
   "id": "5fec8735",
   "metadata": {},
   "outputs": [],
   "source": [
    "y = [label[1] for label in data]\n",
    "X = [tensor[0] for tensor in data]"
   ]
  },
  {
   "cell_type": "code",
   "execution_count": 6,
   "id": "5a9ebda5",
   "metadata": {},
   "outputs": [],
   "source": [
    "X_train, X_test, y_train, y_test = train_test_split(X, y, test_size=0.2, shuffle=True, stratify=y)"
   ]
  },
  {
   "cell_type": "code",
   "execution_count": 8,
   "id": "72d80935",
   "metadata": {},
   "outputs": [],
   "source": [
    "train_dataset = [(X, y) for X, y, in zip(X_train, y_train)]\n",
    "test_dataset = [(X, y) for X, y, in zip(X_test, y_test)]"
   ]
  },
  {
   "cell_type": "code",
   "execution_count": 10,
   "id": "f8dfc999",
   "metadata": {},
   "outputs": [],
   "source": [
    "from torch.utils.data import DataLoader\n",
    "\n",
    "train_dataloader = DataLoader(train_dataset, batch_size=32, shuffle=True)\n",
    "test_dataloader = DataLoader(test_dataset, batch_size=32, shuffle=True)"
   ]
  },
  {
   "cell_type": "code",
   "execution_count": null,
   "id": "c1f6f42c",
   "metadata": {},
   "outputs": [],
   "source": [
    "class FlowerClassifer(nn.Module):\n",
    "    def __init__(self, in_features, hidden_units, out_features, padding, kernel_size, stride):\n",
    "        super().__init__()\n",
    "        self.l1 = nn.Conv2d(in_features=in_features, out_channels=hidden_units, kernel_size=kernel_size, stride=stride, padding=padding)\n",
    "        self.l2 = nn.Dropout1d()\n",
    "        self.l3 = nn.ReLU()"
   ]
  }
 ],
 "metadata": {
  "kernelspec": {
   "display_name": "base",
   "language": "python",
   "name": "python3"
  },
  "language_info": {
   "codemirror_mode": {
    "name": "ipython",
    "version": 3
   },
   "file_extension": ".py",
   "mimetype": "text/x-python",
   "name": "python",
   "nbconvert_exporter": "python",
   "pygments_lexer": "ipython3",
   "version": "3.12.7"
  }
 },
 "nbformat": 4,
 "nbformat_minor": 5
}
